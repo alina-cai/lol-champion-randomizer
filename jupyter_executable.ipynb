{
 "cells": [
  {
   "cell_type": "code",
   "execution_count": 1,
   "metadata": {},
   "outputs": [
    {
     "name": "stdout",
     "output_type": "stream",
     "text": [
      "\n",
      "Randomly League of Legends Champion:\n",
      "\n",
      "Fiddlesticks\n",
      "\n"
     ]
    },
    {
     "data": {
      "text/html": [
       "<img src=\"https://static.wikia.nocookie.net/leagueoflegends/images/a/a5/Fiddlesticks_OriginalSquare.png/revision/latest/scale-to-width-down/42?cb=20200317230512\"/>"
      ],
      "text/plain": [
       "<IPython.core.display.Image object>"
      ]
     },
     "execution_count": 1,
     "metadata": {},
     "output_type": "execute_result"
    }
   ],
   "source": [
    "import urllib3\n",
    "from bs4 import BeautifulSoup\n",
    "\n",
    "# Get html\n",
    "http = urllib3.PoolManager()\n",
    "r = http.request('GET', \"https://leagueoflegends.fandom.com/wiki/List_of_champions\")\n",
    "\n",
    "# Initialize Beautiful Soup\n",
    "soup = BeautifulSoup(r.data, 'html.parser')\n",
    "\n",
    "# Scrape relevant data\n",
    "champions = []\n",
    "\n",
    "tables = soup.find_all(\"table\", {\"class\":\"article-table\"})\n",
    "tbody = tables[0].find(\"tbody\")\n",
    "trs = tbody.find_all(\"tr\")\n",
    "\n",
    "for tr in trs[1:]:\n",
    "    tds = tr.find_all(\"td\")\n",
    "    name = tds[0].get(\"data-sort-value\")\n",
    "    image_url = tds[0].find(\"img\").get(\"data-src\")\n",
    "    # image = http.request('GET', image_url).data\n",
    "\n",
    "    champions.append({\n",
    "        \"name\": name,\n",
    "        \"image_url\": image_url,\n",
    "        # \"image\": image,\n",
    "    })\n",
    "\n",
    "import random\n",
    "\n",
    "from PIL import Image\n",
    "import requests\n",
    "from io import BytesIO\n",
    "\n",
    "# Choose randomized champion\n",
    "random_champion = champions[random.randint(0, len(champions) - 1)]\n",
    "\n",
    "# Create a formatted output\n",
    "formatted_output = f\"\"\"\n",
    "Randomly League of Legends Champion:\n",
    "\n",
    "{random_champion['name']}\n",
    "\"\"\"\n",
    "\n",
    "print(formatted_output)\n",
    "\n",
    "from IPython.display import Image as DisplayImage\n",
    "\n",
    "DisplayImage(url=random_champion['image_url'])\n"
   ]
  }
 ],
 "metadata": {
  "kernelspec": {
   "display_name": "Python 3",
   "language": "python",
   "name": "python3"
  },
  "language_info": {
   "codemirror_mode": {
    "name": "ipython",
    "version": 3
   },
   "file_extension": ".py",
   "mimetype": "text/x-python",
   "name": "python",
   "nbconvert_exporter": "python",
   "pygments_lexer": "ipython3",
   "version": "3.10.11"
  },
  "orig_nbformat": 4
 },
 "nbformat": 4,
 "nbformat_minor": 2
}
